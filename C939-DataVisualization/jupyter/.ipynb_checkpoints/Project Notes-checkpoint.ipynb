{
 "cells": [
  {
   "cell_type": "markdown",
   "metadata": {},
   "source": [
    "# Udacity Data Visualizations Project Notes\n",
    "\n",
    "Dataset study in tandem with course material.\n",
    "\n",
    "## Airline Data\n",
    "\n",
    "One of the suggested, intermediate, datasets is being used for this project. Specifically, historical flight data from RITA.\n",
    "\n",
    "* [RITA](https://www.google.com/url?q=http://www.transtats.bts.gov/OT_Delay/OT_DelayCause1.asp&sa=D&ust=1554488156369000)\n",
    "* [Flights](https://www.google.com/url?q=http://stat-computing.org/dataexpo/2009/the-data.html&sa=D&ust=1554488156368000)\n",
    "\n",
    "\n",
    "| Name| Description| Qualitative<\\br>Quantitative |\n",
    "| Year | 1987-2008 | Quantitative |\n",
    "| Month | 1-12 |\n",
    "| DayofMonth | 1-31 |\n",
    "| DayOfWeek | 1 (Monday) - 7 (Sunday) |\n",
    "| DepTime | actual departure time (local, hhmm) |\n",
    "| CRSDepTime | scheduled departure time (local, hhmm) |\n",
    "| ArrTime | actual arrival time (local, hhmm) |\n",
    "| CRSArrTime | scheduled arrival time (local, hhmm) |\n",
    "| UniqueCarrier | unique carrier code | \n",
    "| FlightNum | flight number |\n",
    "| TailNum | plane tail number |\n",
    "| ActualElapsedTime | in minutes |\n",
    "| CRSElapsedTime | in minutes |\n",
    "| AirTime | in minutes |\n",
    "| ArrDelay | arrival delay, in minutes |\n",
    "| DepDelay | departure delay, in minutes |\n",
    "| Origin | origin IATA airport code |\n",
    "| Dest | destination IATA airport code |\n",
    "| Distance | in miles |\n",
    "| TaxiIn | taxi in time, in minutes |\n",
    "| TaxiOut | taxi out time in minutes |\n",
    "| Cancelled | was the flight cancelled? |\n",
    "| CancellationCode | reason for cancellation (A = carrier, B = weather, C = NAS, D = security) |\n",
    "| Diverted | 1 = yes, 0 = no |\n",
    "| CarrierDelay | in minutes |\n",
    "| WeatherDelay | in minutes |\n",
    "| NASDelay | in minutes |\n",
    "| SecurityDelay | in minutes |\n",
    "| LateAircraftDelay | in minutes |"
   ]
  }
 ],
 "metadata": {
  "kernelspec": {
   "display_name": "Python 3",
   "language": "python",
   "name": "python3"
  },
  "language_info": {
   "codemirror_mode": {
    "name": "ipython",
    "version": 3
   },
   "file_extension": ".py",
   "mimetype": "text/x-python",
   "name": "python",
   "nbconvert_exporter": "python",
   "pygments_lexer": "ipython3",
   "version": "3.7.3"
  }
 },
 "nbformat": 4,
 "nbformat_minor": 2
}
